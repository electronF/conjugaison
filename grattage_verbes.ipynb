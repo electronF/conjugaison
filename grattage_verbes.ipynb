{
 "cells": [
  {
   "cell_type": "markdown",
   "metadata": {},
   "source": [
    "# Grattage de verbes\n",
    "\n",
    "Cet algorithme est utilisé pour extraire les verbes du site web du **Le conjuguer** du **Le Figaro**\n",
    "adresse: https://leconjugueur.lefigaro.fr/frlistedeverbe.php"
   ]
  },
  {
   "cell_type": "code",
   "execution_count": 1,
   "metadata": {},
   "outputs": [],
   "source": [
    "import requests\n",
    "from bs4 import BeautifulSoup"
   ]
  },
  {
   "cell_type": "code",
   "execution_count": 64,
   "metadata": {},
   "outputs": [],
   "source": [
    "url_racine = 'https://leconjugueur.lefigaro.fr'\n",
    "url_liste_verbes = 'https://leconjugueur.lefigaro.fr/frlistedeverbe.php'\n",
    "chemin_acces_fichier_verbes_sans_info = 'liste_verbes_sans_info.json'\n",
    "chemin_acces_fichier_verbes_avec_info = 'liste_verbes_avec_info.json'\n",
    "CODE_SUCCES = 200"
   ]
  },
  {
   "cell_type": "code",
   "execution_count": 26,
   "metadata": {},
   "outputs": [],
   "source": [
    "def grattage(lien:str):\n",
    "    res = requests.get(lien)\n",
    "    if res.status_code == CODE_SUCCES:\n",
    "        return res.status_code, BeautifulSoup(res.text, 'html.parser')\n",
    "    return res.status_code, None "
   ]
  },
  {
   "cell_type": "code",
   "execution_count": 27,
   "metadata": {},
   "outputs": [],
   "source": [
    "code_succes, soup_data = grattage(url_liste_verbes)\n",
    "if code_succes == CODE_SUCCES:\n",
    "    verbes_par_lettre_de_debut = soup_data.find(\"div\", {\"id\": \"pop\"})"
   ]
  },
  {
   "cell_type": "markdown",
   "metadata": {},
   "source": [
    "## Verbe sans groupe et traduction en anglais"
   ]
  },
  {
   "cell_type": "code",
   "execution_count": 85,
   "metadata": {},
   "outputs": [],
   "source": [
    "prec_lettre = ''\n",
    "verbes_sans_info = {}\n",
    "for element in verbes_par_lettre_de_debut.find_all():\n",
    "    if element.name == 'h2':\n",
    "        prec_lettre = element.text.split('en')[1].strip()\n",
    "    elif element.name == 'p' and prec_lettre != '':\n",
    "        verbes_sans_info[prec_lettre] = []\n",
    "        for element_verbe in element.find_all('a'):\n",
    "            verbes_sans_info[prec_lettre].append(\n",
    "                {\n",
    "                    'verbe': f\"{element_verbe.text}\".strip().lower(),\n",
    "                    'url': f\"{url_racine}{element_verbe['href']}\",\n",
    "                }\n",
    "            )"
   ]
  },
  {
   "cell_type": "code",
   "execution_count": 92,
   "metadata": {},
   "outputs": [],
   "source": [
    "import json"
   ]
  },
  {
   "cell_type": "code",
   "execution_count": 94,
   "metadata": {},
   "outputs": [],
   "source": [
    "with open(chemin_acces_fichier_verbes_sans_info, 'w') as out_file:\n",
    "    json.dump(verbes_sans_info, out_file, indent=4)"
   ]
  },
  {
   "cell_type": "markdown",
   "metadata": {},
   "source": [
    "## Verbe avec groupe et traduction en anglais"
   ]
  },
  {
   "cell_type": "code",
   "execution_count": 98,
   "metadata": {},
   "outputs": [],
   "source": [
    "from tqdm import tqdm\n",
    "total = 0\n",
    "for lettre in verbes_sans_info: \n",
    "  total +=  len(verbes_sans_info[lettre])"
   ]
  },
  {
   "cell_type": "code",
   "execution_count": 103,
   "metadata": {},
   "outputs": [
    {
     "name": "stderr",
     "output_type": "stream",
     "text": [
      "Iteration 1098:  56%|█████▌    | 1098/1976 [09:39<08:06,  1.80it/s]"
     ]
    }
   ],
   "source": [
    "prec_lettre = ''\n",
    "verbes_avec_info = {}\n",
    "\n",
    "iteration = 0\n",
    "pbar = tqdm(total=total)\n",
    "for element in verbes_par_lettre_de_debut.find_all():\n",
    "    if element.name == 'h2':\n",
    "        prec_lettre = element.text.split('en')[1].strip()\n",
    "    elif element.name == 'p' and prec_lettre != '':\n",
    "        verbes_avec_info[prec_lettre] = []\n",
    "        for element_verbe in element.find_all('a'):\n",
    "            verbe = f\"{element_verbe.text}\".strip().lower()\n",
    "            conjuguaison_url = f\"{url_racine}{element_verbe['href']}\"\n",
    "            \n",
    "            # Extraction du groupe et de la traduction du verbe en anglais\n",
    "            groupe = None\n",
    "            code_succes, res = grattage(conjuguaison_url)\n",
    "            if code_succes == CODE_SUCCES and res != None:\n",
    "                try:\n",
    "                    \n",
    "                    #Extraction du groupe\n",
    "                    info = res.find(\"div\", {\"id\": \"verbeNav\"}).find('p')\n",
    "                    groupe = info.find('b').text.strip()\n",
    "                    \n",
    "                    #Extraction de la traduction en anglais\n",
    "                    traduction = ''\n",
    "                    for mot in info.text.split('anglaise :')[-1].split(' '):\n",
    "                        if mot.strip().lower() == verbe:\n",
    "                            break\n",
    "                        traduction += mot + ' '\n",
    "                except:\n",
    "                    pass\n",
    "\n",
    "            verbes_avec_info[prec_lettre].append(\n",
    "                {\n",
    "                    'verbe': verbe,\n",
    "                    'url': conjuguaison_url,\n",
    "                    'groupe': groupe,\n",
    "                    'anglais': traduction.strip()\n",
    "                }\n",
    "            )\n",
    "            pbar.set_description(f\"Iteration {iteration + 1}\")\n",
    "            pbar.update(1)\n",
    "            iteration +=1\n",
    "pbar.close()"
   ]
  },
  {
   "cell_type": "code",
   "execution_count": 104,
   "metadata": {},
   "outputs": [],
   "source": [
    "with open(chemin_acces_fichier_verbes_avec_info, 'w') as out_file:\n",
    "    json.dump(verbes_avec_info, out_file, indent=4)"
   ]
  },
  {
   "cell_type": "markdown",
   "metadata": {},
   "source": [
    "## Version rapide avec multithreading \n",
    "\n",
    "Cette version rend le code exponentiellement plus rapide. Le pire des cas etant 8.5 fois plus rapide."
   ]
  },
  {
   "cell_type": "code",
   "execution_count": 156,
   "metadata": {},
   "outputs": [],
   "source": [
    "import time\n",
    "from threading import Thread, RLock\n",
    "from collections import defaultdict, deque"
   ]
  },
  {
   "cell_type": "markdown",
   "metadata": {},
   "source": [
    "1. Grattage verbe sans groupe et traduction"
   ]
  },
  {
   "cell_type": "code",
   "execution_count": null,
   "metadata": {},
   "outputs": [],
   "source": [
    "prec_lettre_d = ''\n",
    "liste_verbes_sans_info = []\n",
    "for element in verbes_par_lettre_de_debut.find_all():\n",
    "    #Lettre de debut\n",
    "    if element.name == 'h2':\n",
    "        prec_lettre_d = element.text.split('en')[1].strip()\n",
    "    elif element.name == 'p' and prec_lettre != '':\n",
    "        #Liste de verbe selon la lettre de debut\n",
    "        for element_verbe in element.find_all('a'):\n",
    "            liste_verbes_sans_info.append(\n",
    "                {\n",
    "                    'verbe': f\"{element_verbe.text}\".strip().lower(),\n",
    "                    'url': f\"{url_racine}{element_verbe['href']}\",\n",
    "                    'lettre_debut': prec_lettre_d\n",
    "                }\n",
    "            )\n"
   ]
  },
  {
   "cell_type": "markdown",
   "metadata": {},
   "source": [
    "2. Creation de packet de verbes de tailles de N avec le dernier packet avec une taille possibllement differente de N"
   ]
  },
  {
   "cell_type": "code",
   "execution_count": 148,
   "metadata": {},
   "outputs": [],
   "source": [
    "ensembles_verbes = []\n",
    "ensemble_courant = []\n",
    "iteration = 0\n",
    "trame = 50\n",
    "liste_verbes_queue = deque(liste_verbes_sans_info)\n",
    "while liste_verbes_queue:\n",
    "    if iteration == trame:\n",
    "        iteration = 0\n",
    "        ensembles_verbes.append(ensemble_courant)\n",
    "        ensemble_courant = []\n",
    "    ensemble_courant.append(liste_verbes_queue.popleft())\n",
    "    iteration += 1\n",
    "\n",
    "if len(ensemble_courant) > 0: \n",
    "    ensembles_verbes.append(ensemble_courant)\n",
    "    ensemble_courant = []"
   ]
  },
  {
   "cell_type": "markdown",
   "metadata": {},
   "source": [
    "3. Definition de la fonction de grattage pour packet de verbes"
   ]
  },
  {
   "cell_type": "code",
   "execution_count": 211,
   "metadata": {},
   "outputs": [],
   "source": [
    "def grattage_info_verbes(liste_verbes:list, resultat:list, id_thread=1):\n",
    "    verbes_avec_info = defaultdict(list)\n",
    "    for element in liste_verbes:\n",
    "        verbe = element['verbe']\n",
    "        conjuguaison_url = element['url']\n",
    "        \n",
    "        # Extraction du groupe et de la traduction du verbe en anglais\n",
    "        groupe = None\n",
    "        code_succes, res = grattage(conjuguaison_url)\n",
    "        if code_succes == CODE_SUCCES and res != None:\n",
    "            try:\n",
    "                \n",
    "                #Extraction du groupe\n",
    "                info = res.find(\"div\", {\"id\": \"verbeNav\"}).find('p')\n",
    "                groupe = info.find('b').text.strip()\n",
    "                \n",
    "                #Extraction de la traduction en anglais\n",
    "                traduction = ''\n",
    "                for mot in info.text.split('anglaise :')[-1].split(' '):\n",
    "                    if mot.strip().lower() == verbe:\n",
    "                        break\n",
    "                    traduction += mot + ' '\n",
    "            except:\n",
    "                pass\n",
    "\n",
    "        verbes_avec_info[element['lettre_debut']].append(\n",
    "            {\n",
    "                'verbe': verbe,\n",
    "                'url': conjuguaison_url,\n",
    "                'groupe': groupe,\n",
    "                'anglais': traduction.strip()\n",
    "            }\n",
    "        )\n",
    "        \n",
    "    with RLock():\n",
    "        resultat.append(verbes_avec_info)\n",
    "        print('Thread: ' ,id_thread, 'terminé')\n",
    "    "
   ]
  },
  {
   "cell_type": "code",
   "execution_count": 213,
   "metadata": {},
   "outputs": [
    {
     "name": "stdout",
     "output_type": "stream",
     "text": [
      "Thread:  0 terminé\n",
      "Thread:  0 terminé\n",
      "Thread:  0 terminé\n",
      "Thread:  0 terminé\n",
      "Thread:  0 terminé\n",
      "Thread:  0 terminé\n",
      "Thread:  0 terminé\n",
      "Thread: Thread:  0 terminé\n",
      " 0 terminé\n",
      "Thread:  0 terminé\n",
      "Thread:  0 terminé\n",
      "Thread:  0 terminé\n",
      "Thread:  0 terminé\n",
      "Thread: Thread:  0 terminé\n",
      "Thread:  0 terminé\n",
      "Thread:  0 terminé\n",
      " 0 terminé\n",
      "Thread:  0 terminé\n",
      "Thread:  0 terminé\n",
      "Thread:  0 terminé\n",
      "Thread:  0 terminé\n",
      "Thread:  0 terminé\n",
      "Thread:  0 terminé\n",
      "Thread:  0 terminé\n",
      "Thread:  0 terminé\n",
      "Thread:  0 terminé\n",
      "Thread:  0 terminé\n",
      "Thread:  0 terminé\n",
      "Thread:  0 terminé\n",
      "Thread:  0 terminé\n",
      "Thread:  0 terminé\n",
      "Thread: Thread:  0 terminé\n",
      " 0 terminé\n",
      "Thread:  0 terminé\n",
      "Thread:  0 terminé\n",
      "Thread:  0 terminé\n",
      "Thread:  0 terminé\n",
      "Thread:  0 terminé\n",
      "Thread: Thread:  0 terminé\n",
      " 0 terminé\n"
     ]
    }
   ],
   "source": [
    "liste_threads = []\n",
    "verbes_avec_infos = []\n",
    "nombre_threads = 0\n",
    "for ensemble_verbes in (ensembles_verbes):\n",
    "    thread = Thread(target=grattage_info_verbes, args=(ensemble_verbes, verbes_avec_infos, nombre_threads))\n",
    "    thread.daemon = True\n",
    "    thread.start()\n",
    "    liste_threads.append(thread)\n",
    "    nombre_threads += 1\n",
    "\n",
    "while any([thread.is_alive() for thread in liste_threads]):\n",
    "    time.sleep(1)"
   ]
  },
  {
   "cell_type": "code",
   "execution_count": null,
   "metadata": {},
   "outputs": [],
   "source": [
    "with open(chemin_acces_fichier_verbes_avec_info, 'w') as out_file:\n",
    "    json.dump(verbes_avec_info, out_file, indent=4)"
   ]
  }
 ],
 "metadata": {
  "kernelspec": {
   "display_name": "base",
   "language": "python",
   "name": "python3"
  },
  "language_info": {
   "codemirror_mode": {
    "name": "ipython",
    "version": 3
   },
   "file_extension": ".py",
   "mimetype": "text/x-python",
   "name": "python",
   "nbconvert_exporter": "python",
   "pygments_lexer": "ipython3",
   "version": "3.10.9"
  }
 },
 "nbformat": 4,
 "nbformat_minor": 2
}
